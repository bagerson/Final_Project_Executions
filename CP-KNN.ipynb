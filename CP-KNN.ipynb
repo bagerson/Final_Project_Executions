{
 "cells": [
  {
   "cell_type": "code",
   "execution_count": 1,
   "metadata": {},
   "outputs": [],
   "source": [
    "import matplotlib.pyplot as plt\n",
    "import numpy as np\n",
    "import pandas as pd\n",
    "from sklearn.neighbors import KNeighborsClassifier"
   ]
  },
  {
   "cell_type": "code",
   "execution_count": 2,
   "metadata": {
    "scrolled": true
   },
   "outputs": [
    {
     "data": {
      "text/html": [
       "<div>\n",
       "<style scoped>\n",
       "    .dataframe tbody tr th:only-of-type {\n",
       "        vertical-align: middle;\n",
       "    }\n",
       "\n",
       "    .dataframe tbody tr th {\n",
       "        vertical-align: top;\n",
       "    }\n",
       "\n",
       "    .dataframe thead th {\n",
       "        text-align: right;\n",
       "    }\n",
       "</style>\n",
       "<table border=\"1\" class=\"dataframe\">\n",
       "  <thead>\n",
       "    <tr style=\"text-align: right;\">\n",
       "      <th></th>\n",
       "      <th>Unnamed: 0</th>\n",
       "      <th>raw</th>\n",
       "      <th>ICPSR Number</th>\n",
       "      <th>ICPSR Edition Number</th>\n",
       "      <th>ICPSR Part Number</th>\n",
       "      <th>Case Number</th>\n",
       "      <th>Race of Offender</th>\n",
       "      <th>Age at Execution</th>\n",
       "      <th>Name of Offender</th>\n",
       "      <th>Place of Execution</th>\n",
       "      <th>...</th>\n",
       "      <th>Crimes Committed</th>\n",
       "      <th>Method of Execution</th>\n",
       "      <th>Day</th>\n",
       "      <th>Month</th>\n",
       "      <th>Year</th>\n",
       "      <th>State</th>\n",
       "      <th>County</th>\n",
       "      <th>Sex</th>\n",
       "      <th>CountyName</th>\n",
       "      <th>StateName</th>\n",
       "    </tr>\n",
       "  </thead>\n",
       "  <tbody>\n",
       "    <tr>\n",
       "      <th>0</th>\n",
       "      <td>13063</td>\n",
       "      <td>8451415100011  KENDALL GEORGE              261...</td>\n",
       "      <td>8451</td>\n",
       "      <td>4</td>\n",
       "      <td>1</td>\n",
       "      <td>51000</td>\n",
       "      <td>1</td>\n",
       "      <td></td>\n",
       "      <td>KENDALL GEORGE</td>\n",
       "      <td>2</td>\n",
       "      <td>...</td>\n",
       "      <td>18</td>\n",
       "      <td>4</td>\n",
       "      <td></td>\n",
       "      <td></td>\n",
       "      <td>1608</td>\n",
       "      <td>51</td>\n",
       "      <td>95</td>\n",
       "      <td>NaN</td>\n",
       "      <td>James City County</td>\n",
       "      <td>Virginia</td>\n",
       "    </tr>\n",
       "    <tr>\n",
       "      <th>1</th>\n",
       "      <td>13064</td>\n",
       "      <td>8451415100021  FRANK DANIELL               264...</td>\n",
       "      <td>8451</td>\n",
       "      <td>4</td>\n",
       "      <td>1</td>\n",
       "      <td>51000</td>\n",
       "      <td>1</td>\n",
       "      <td></td>\n",
       "      <td>FRANK DANIELL</td>\n",
       "      <td>2</td>\n",
       "      <td>...</td>\n",
       "      <td>43</td>\n",
       "      <td>1</td>\n",
       "      <td>1</td>\n",
       "      <td>3</td>\n",
       "      <td>1622</td>\n",
       "      <td>51</td>\n",
       "      <td>95</td>\n",
       "      <td>NaN</td>\n",
       "      <td>James City County</td>\n",
       "      <td>Virginia</td>\n",
       "    </tr>\n",
       "    <tr>\n",
       "      <th>2</th>\n",
       "      <td>13065</td>\n",
       "      <td>8451415100031  CORNISH RICHARD             263...</td>\n",
       "      <td>8451</td>\n",
       "      <td>4</td>\n",
       "      <td>1</td>\n",
       "      <td>51000</td>\n",
       "      <td>1</td>\n",
       "      <td></td>\n",
       "      <td>CORNISH RICHARD</td>\n",
       "      <td>2</td>\n",
       "      <td>...</td>\n",
       "      <td>30</td>\n",
       "      <td>1</td>\n",
       "      <td></td>\n",
       "      <td></td>\n",
       "      <td>1624</td>\n",
       "      <td>51</td>\n",
       "      <td>95</td>\n",
       "      <td>NaN</td>\n",
       "      <td>James City County</td>\n",
       "      <td>Virginia</td>\n",
       "    </tr>\n",
       "    <tr>\n",
       "      <th>3</th>\n",
       "      <td>13066</td>\n",
       "      <td>845141510004121HAYLE THOMAS                260...</td>\n",
       "      <td>8451</td>\n",
       "      <td>4</td>\n",
       "      <td>1</td>\n",
       "      <td>51000</td>\n",
       "      <td>1</td>\n",
       "      <td>21</td>\n",
       "      <td>HAYLE THOMAS</td>\n",
       "      <td>2</td>\n",
       "      <td>...</td>\n",
       "      <td>2</td>\n",
       "      <td>1</td>\n",
       "      <td>6</td>\n",
       "      <td></td>\n",
       "      <td>1626</td>\n",
       "      <td>51</td>\n",
       "      <td>95</td>\n",
       "      <td>NaN</td>\n",
       "      <td>James City County</td>\n",
       "      <td>Virginia</td>\n",
       "    </tr>\n",
       "    <tr>\n",
       "      <th>4</th>\n",
       "      <td>5796</td>\n",
       "      <td>845141250001140BILLINGTON JOHN             260...</td>\n",
       "      <td>8451</td>\n",
       "      <td>4</td>\n",
       "      <td>1</td>\n",
       "      <td>25000</td>\n",
       "      <td>1</td>\n",
       "      <td>40</td>\n",
       "      <td>BILLINGTON JOHN</td>\n",
       "      <td>2</td>\n",
       "      <td>...</td>\n",
       "      <td>1</td>\n",
       "      <td>1</td>\n",
       "      <td>30</td>\n",
       "      <td>9</td>\n",
       "      <td>1630</td>\n",
       "      <td>25</td>\n",
       "      <td>23</td>\n",
       "      <td>NaN</td>\n",
       "      <td>Whitman town</td>\n",
       "      <td>Massachusetts</td>\n",
       "    </tr>\n",
       "  </tbody>\n",
       "</table>\n",
       "<p>5 rows × 21 columns</p>\n",
       "</div>"
      ],
      "text/plain": [
       "   Unnamed: 0                                                raw  \\\n",
       "0       13063  8451415100011  KENDALL GEORGE              261...   \n",
       "1       13064  8451415100021  FRANK DANIELL               264...   \n",
       "2       13065  8451415100031  CORNISH RICHARD             263...   \n",
       "3       13066  845141510004121HAYLE THOMAS                260...   \n",
       "4        5796  845141250001140BILLINGTON JOHN             260...   \n",
       "\n",
       "   ICPSR Number  ICPSR Edition Number  ICPSR Part Number  Case Number  \\\n",
       "0          8451                     4                  1        51000   \n",
       "1          8451                     4                  1        51000   \n",
       "2          8451                     4                  1        51000   \n",
       "3          8451                     4                  1        51000   \n",
       "4          8451                     4                  1        25000   \n",
       "\n",
       "  Race of Offender Age at Execution              Name of Offender  \\\n",
       "0                1                   KENDALL GEORGE                 \n",
       "1                1                   FRANK DANIELL                  \n",
       "2                1                   CORNISH RICHARD                \n",
       "3                1               21  HAYLE THOMAS                   \n",
       "4                1               40  BILLINGTON JOHN                \n",
       "\n",
       "  Place of Execution  ... Crimes Committed Method of Execution Day Month  \\\n",
       "0                  2  ...               18                   4             \n",
       "1                  2  ...               43                   1   1     3   \n",
       "2                  2  ...               30                   1             \n",
       "3                  2  ...                2                   1   6         \n",
       "4                  2  ...                1                   1  30     9   \n",
       "\n",
       "   Year  State  County  Sex         CountyName      StateName  \n",
       "0  1608     51      95  NaN  James City County       Virginia  \n",
       "1  1622     51      95  NaN  James City County       Virginia  \n",
       "2  1624     51      95  NaN  James City County       Virginia  \n",
       "3  1626     51      95  NaN  James City County       Virginia  \n",
       "4  1630     25      23  NaN       Whitman town  Massachusetts  \n",
       "\n",
       "[5 rows x 21 columns]"
      ]
     },
     "execution_count": 2,
     "metadata": {},
     "output_type": "execute_result"
    }
   ],
   "source": [
    "#Capital punishment pre 1974\n",
    "csv_file_pre = \"rawICPSRpre1974.csv\"\n",
    "df_pre = pd.read_csv(csv_file_pre)\n",
    "df_pre.head()"
   ]
  },
  {
   "cell_type": "code",
   "execution_count": 3,
   "metadata": {},
   "outputs": [],
   "source": [
    "#Capital punishment post 1974\n",
    "csv_file_post = \"rawICPSRpost1974.csv\"\n",
    "df_post = pd.read_csv(csv_file_post)"
   ]
  },
  {
   "cell_type": "code",
   "execution_count": 4,
   "metadata": {},
   "outputs": [],
   "source": [
    "#Clean Datasets for ML\n",
    "\n",
    "#Pre 1974\n",
    "df_pre['Method of Execution'].replace(' ', np.nan, inplace=True)\n",
    "df_pre = df_pre[pd.notnull(df_pre['Method of Execution'])]\n",
    "df_pre['Crimes Committed'].replace('  ', np.nan, inplace=True)\n",
    "df_pre = df_pre[pd.notnull(df_pre['Crimes Committed'])]\n",
    "df_pre['Race of Offender'].replace(' ', np.nan, inplace=True)\n",
    "df_pre = df_pre[pd.notnull(df_pre['Race of Offender'])]\n",
    "df_pre['Place of Execution'].replace(' ', np.nan, inplace=True)\n",
    "df_pre = df_pre[pd.notnull(df_pre['Place of Execution'])]\n",
    "\n",
    "#Post 1974\n",
    "df_post['Method of Execution'].replace(' ', np.nan, inplace=True)\n",
    "df_post = df_post[pd.notnull(df_post['Method of Execution'])]\n",
    "df_post['Crimes Committed'].replace('  ', np.nan, inplace=True)\n",
    "df_post = df_post[pd.notnull(df_post['Crimes Committed'])]\n",
    "df_post['Race of Offender'].replace(' ', np.nan, inplace=True)\n",
    "df_post = df_post[pd.notnull(df_post['Race of Offender'])]\n",
    "df_post['Place of Execution'].replace(' ', np.nan, inplace=True)\n",
    "df_post = df_post[pd.notnull(df_post['Place of Execution'])]"
   ]
  },
  {
   "cell_type": "code",
   "execution_count": 5,
   "metadata": {},
   "outputs": [],
   "source": [
    "#Convert String to Int\n",
    "\n",
    "#Pre 1974\n",
    "df_pre['Method of Execution'] = df_pre['Method of Execution'].astype(int)\n",
    "df_pre['Crimes Committed'] = df_pre['Crimes Committed'].astype(int)\n",
    "df_pre['Race of Offender'] = df_pre['Race of Offender'].astype(int)\n",
    "df_pre['Place of Execution'] = df_pre['Place of Execution'].astype(int)\n",
    "\n",
    "#Post 1974\n",
    "df_post['Method of Execution'] = df_post['Method of Execution'].astype(int)\n",
    "df_post['Crimes Committed'] = df_post['Crimes Committed'].astype(int)\n",
    "df_post['Race of Offender'] = df_post['Race of Offender'].astype(int)\n",
    "df_post['Place of Execution'] = df_post['Place of Execution'].astype(int)"
   ]
  },
  {
   "cell_type": "code",
   "execution_count": 6,
   "metadata": {},
   "outputs": [],
   "source": [
    "y_train = df_pre['Method of Execution']\n",
    "y_test = df_post['Method of Execution']"
   ]
  },
  {
   "cell_type": "code",
   "execution_count": 7,
   "metadata": {},
   "outputs": [],
   "source": [
    "X_train = df_pre[['Crimes Committed','Race of Offender','Place of Execution']]\n",
    "X_test = df_post[['Crimes Committed','Race of Offender','Place of Execution']]"
   ]
  },
  {
   "cell_type": "code",
   "execution_count": null,
   "metadata": {},
   "outputs": [],
   "source": [
    "#from sklearn.model_selection import train_test_split\n",
    "#X_train, X_test, y_train, y_test = train_test_split(X, y, random_state=42)"
   ]
  },
  {
   "cell_type": "code",
   "execution_count": 8,
   "metadata": {},
   "outputs": [
    {
     "name": "stdout",
     "output_type": "stream",
     "text": [
      "k: 1, Train/Test Score: 0.769/0.135\n",
      "k: 3, Train/Test Score: 0.729/0.108\n",
      "k: 5, Train/Test Score: 0.731/0.110\n",
      "k: 7, Train/Test Score: 0.741/0.104\n",
      "k: 9, Train/Test Score: 0.813/0.124\n",
      "k: 11, Train/Test Score: 0.742/0.112\n",
      "k: 13, Train/Test Score: 0.813/0.133\n",
      "k: 15, Train/Test Score: 0.813/0.135\n",
      "k: 17, Train/Test Score: 0.812/0.135\n",
      "k: 19, Train/Test Score: 0.812/0.135\n"
     ]
    },
    {
     "data": {
      "image/png": "[encoded data removed]",
      "text/plain": [
       "<Figure size 432x288 with 1 Axes>"
      ]
     },
     "metadata": {
      "needs_background": "light"
     },
     "output_type": "display_data"
    }
   ],
   "source": [
    "# Loop through different k values to see which has the highest accuracy\n",
    "# Note: We only use odd numbers because we don't want any ties\n",
    "train_scores = []\n",
    "test_scores = []\n",
    "for k in range(1, 20, 2):\n",
    "    knn = KNeighborsClassifier(n_neighbors=k)\n",
    "    knn.fit(X_train, y_train)\n",
    "    train_score = knn.score(X_train, y_train)\n",
    "    test_score = knn.score(X_test, y_test)\n",
    "    train_scores.append(train_score)\n",
    "    test_scores.append(test_score)\n",
    "    print(f\"k: {k}, Train/Test Score: {train_score:.3f}/{test_score:.3f}\")\n",
    "    \n",
    "    \n",
    "plt.plot(range(1, 20, 2), train_scores, marker='o')\n",
    "plt.plot(range(1, 20, 2), test_scores, marker=\"x\")\n",
    "plt.xlabel(\"k neighbors\")\n",
    "plt.ylabel(\"Testing accuracy Score\")\n",
    "plt.show()"
   ]
  },
  {
   "cell_type": "code",
   "execution_count": 9,
   "metadata": {},
   "outputs": [
    {
     "data": {
      "text/plain": [
       "<Figure size 432x288 with 0 Axes>"
      ]
     },
     "metadata": {},
     "output_type": "display_data"
    }
   ],
   "source": [
    "plt.savefig('CP-KNN.png')"
   ]
  },
  {
   "cell_type": "code",
   "execution_count": null,
   "metadata": {},
   "outputs": [],
   "source": []
  }
 ],
 "metadata": {
  "kernelspec": {
   "display_name": "Python [conda env:.conda-PythonData] *",
   "language": "python",
   "name": "conda-env-.conda-PythonData-py"
  },
  "language_info": {
   "codemirror_mode": {
    "name": "ipython",
    "version": 3
   },
   "file_extension": ".py",
   "mimetype": "text/x-python",
   "name": "python",
   "nbconvert_exporter": "python",
   "pygments_lexer": "ipython3",
   "version": "3.6.8"
  }
 },
 "nbformat": 4,
 "nbformat_minor": 2
}
